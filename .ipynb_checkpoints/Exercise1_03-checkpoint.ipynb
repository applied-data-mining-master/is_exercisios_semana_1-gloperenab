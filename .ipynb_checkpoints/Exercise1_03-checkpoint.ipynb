{
 "cells": [
  {
   "cell_type": "markdown",
   "metadata": {},
   "source": [
    "# Exercise 1.03: Teaching the Agent to Win\n",
    "\n",
    "In this exercise, we will see how the steps needed to win can be reduced. We will be making the agent that we developed in the previous section activity detect situations where it can win a game.\n",
    "\n",
    "The following steps will help you to complete this exercise:"
   ]
  },
  {
   "cell_type": "markdown",
   "metadata": {},
   "source": [
    "1.- Reuse the previous code from Steps 1–5 from Activity 1.01"
   ]
  },
  {
   "cell_type": "code",
   "execution_count": 1,
   "metadata": {},
   "outputs": [],
   "source": [
    "# steps Steps 1-5 from Exercise 1.02\n",
    "\n",
    "combinaciones_ganadoras = [\n",
    "    #horizontales\n",
    "    [1,2,3],\n",
    "    [4,5,6],\n",
    "    [7,8,9],\n",
    "    #verticales\n",
    "    [1,4,7],\n",
    "    [2,5,8],\n",
    "    [3,6,9],\n",
    "    #diagonales\n",
    "    [1,5,9],\n",
    "    [3,5,7]\n",
    "]\n",
    "\n",
    "signo_vacio='-'\n",
    "signo_ia= 'O'\n",
    "signo_jugador='X'\n",
    "\n",
    "def tableroImprimir(tablero):\n",
    "    for i in range (1,8,3):\n",
    "        print(f\"{tablero[(i-1)]} {tablero[(i-1)+1]} {tablero[(i-1)+2]}\")\n",
    "    print(\"\\n\\n\")\n",
    "\n",
    "def mov_jugador(tablero):\n",
    "    salir=\"false\"\n",
    "    while salir==\"false\":\n",
    "        print(\"Ingrese numero de fila:\")\n",
    "        fila = int(input())\n",
    "        print(\"Ingrese numero de columna:\")\n",
    "        columna = int(input())\n",
    "        if fila==1:\n",
    "            fila=0\n",
    "        else:\n",
    "            if fila==2:\n",
    "                fila=3\n",
    "            else:\n",
    "                if fila==3:\n",
    "                    fila=6\n",
    "        posicion=int((fila+columna)-1)\n",
    "        if tablero[posicion]==signo_vacio:\n",
    "            tablero=tablero[:posicion]+signo_jugador+tablero[(posicion+1):]\n",
    "            salir=\"true\"\n",
    "        else:\n",
    "            print(\"\\nCasilla ocupada.\\n\")\n",
    "    return tablero\n",
    "\n",
    "def game_won_by(tablero):\n",
    "    ganador=\"nadie\"\n",
    "    for i in combinaciones_ganadoras:\n",
    "        \n",
    "        if(tablero[int(i[0])-1]==tablero[int(i[1])-1] and tablero[int(i[0])-1]==tablero[int(i[2])-1] and tablero[int(i[0])-1]!=\"-\"):\n",
    "            if tablero[int(i[0])-1]==\"X\":\n",
    "                ganador=\"jugador\"\n",
    "            else:\n",
    "                ganador=\"ia\"\n",
    "        else:\n",
    "            if tablero.find(\"-\")<0 and ganador==\"nadie\":\n",
    "                ganador=\"empate\"\n",
    "    return ganador   "
   ]
  },
  {
   "cell_type": "code",
   "execution_count": 2,
   "metadata": {},
   "outputs": [],
   "source": [
    "# steps 2-5 of Acctivity"
   ]
  },
  {
   "cell_type": "markdown",
   "metadata": {},
   "source": [
    "2.- Re-define the function, `ai_move`.  `ai_move` will return a move that consider its own previous moves. If the game can be won in that move, ai_move will select that move:"
   ]
  },
  {
   "cell_type": "code",
   "execution_count": 1,
   "metadata": {},
   "outputs": [
    {
     "ename": "SyntaxError",
     "evalue": "invalid syntax (<ipython-input-1-66599e94a567>, line 1)",
     "output_type": "error",
     "traceback": [
      "\u001b[0;36m  File \u001b[0;32m\"<ipython-input-1-66599e94a567>\"\u001b[0;36m, line \u001b[0;32m1\u001b[0m\n\u001b[0;31m    def por_ganar(tablero)\u001b[0m\n\u001b[0m                          ^\u001b[0m\n\u001b[0;31mSyntaxError\u001b[0m\u001b[0;31m:\u001b[0m invalid syntax\n"
     ]
    }
   ],
   "source": [
    "def por_ganar(tablero)\n",
    "    porGanar=\"false\"\n",
    "    \n",
    "    dato1=0\n",
    "    dato2=0\n",
    "    dato3=0\n",
    "    \n",
    "    for i in combinaciones_ganadoras:\n",
    "        if tablero[int(i[0])-1]==\"X\":\n",
    "            dato1=1\n",
    "        if tablero[int(i[1])-1]==\"X\":\n",
    "            dato2=1\n",
    "        if tablero[int(i[2])-1]==\"X\":\n",
    "            dato3=1\n",
    "            \n",
    "        if(dato1+dato2+dato3)==2\n",
    "            if dato1==0\n",
    "                tablero=tablero[:(int(i[0])-1)]+signo_ia+tablero[((int(i[0])-1)+1):]\n",
    "                porGanar=\"true\"\n",
    "            if dato2==0\n",
    "                tablero=tablero[:(int(i[1])-1)]+signo_ia+tablero[((int(i[1])-1)+1):]\n",
    "                porGanar=\"true\"\n",
    "            if dato3==0\n",
    "                tablero=tablero[:(int(i[2])-1)]+signo_ia+tablero[((int(i[2])-1)+1):]\n",
    "                porGanar=\"true\"        \n",
    "    return porGanar   \n",
    "\n",
    "def mov_ia(tablero):\n",
    "    salir=\"false\"\n",
    "    while salir==\"false\":\n",
    "        \n",
    "        porGanar=por_ganar(tablero)\n",
    "        \n",
    "        if porGanar!=\"true\":\n",
    "            elegir=\"012345678\"\n",
    "            posicion=int(random.choice(elegir))\n",
    "            if tablero[posicion]==signo_vacio:\n",
    "                tablero=tablero[:posicion]+signo_ia+tablero[(posicion+1):]\n",
    "                salir=\"true\"\n",
    "        else:\n",
    "            salir=\"true\"\n",
    "            \n",
    "    return tablero"
   ]
  },
  {
   "cell_type": "markdown",
   "metadata": {},
   "source": [
    "3.- Test the code snippet with a game loop."
   ]
  },
  {
   "cell_type": "code",
   "execution_count": null,
   "metadata": {},
   "outputs": [],
   "source": []
  },
  {
   "cell_type": "markdown",
   "metadata": {},
   "source": [
    "4.- Count all the possible moves. To do this, we must change the `all_moves_from_board` function to include this improvement. We must do this so that, if the game is won by `AI_SIGN`, it will return that value"
   ]
  },
  {
   "cell_type": "code",
   "execution_count": null,
   "metadata": {},
   "outputs": [],
   "source": []
  },
  {
   "cell_type": "markdown",
   "metadata": {},
   "source": [
    "5.- find all the possibilities using the `count_possibilities` function\n",
    "\n",
    "Output:\n",
    "\n",
    "```\n",
    "step 0. Moves: 1\n",
    " step 1. Moves: 9\n",
    " step 2. Moves: 72\n",
    " step 3. Moves: 504\n",
    " step 4. Moves: 3024\n",
    " step 5. Moves: 8525\n",
    " step 6. Moves: 28612\n",
    " step 7. Moves: 42187\n",
    " step 8. Moves: 55888\n",
    " First player wins: 32395\n",
    " Second player wins: 23445\n",
    " Draw 35544\n",
    " Total 91384\n",
    "```"
   ]
  },
  {
   "cell_type": "code",
   "execution_count": null,
   "metadata": {},
   "outputs": [],
   "source": []
  }
 ],
 "metadata": {
  "kernelspec": {
   "display_name": "Python 3",
   "language": "python",
   "name": "python3"
  },
  "language_info": {
   "codemirror_mode": {
    "name": "ipython",
    "version": 3
   },
   "file_extension": ".py",
   "mimetype": "text/x-python",
   "name": "python",
   "nbconvert_exporter": "python",
   "pygments_lexer": "ipython3",
   "version": "3.8.5"
  }
 },
 "nbformat": 4,
 "nbformat_minor": 4
}
